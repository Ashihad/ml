{
 "cells": [
  {
   "cell_type": "code",
   "execution_count": null,
   "id": "55c512fc-74a9-4b1d-86af-a7ada596b014",
   "metadata": {},
   "outputs": [],
   "source": [
    "# Rosenblatt’s classic perceptron\n",
    "\n",
    "# * convergence of the perceptron is only guaranteed if the two classes\n",
    "# are linearly separable"
   ]
  },
  {
   "cell_type": "code",
   "execution_count": null,
   "id": "959cc240-d46b-4205-ad31-a53cd487a3e1",
   "metadata": {},
   "outputs": [],
   "source": [
    "import numpy as np\n",
    "import matplotlib.pyplot as plt\n",
    "import pandas as pd"
   ]
  },
  {
   "cell_type": "code",
   "execution_count": null,
   "id": "9cfde06e-4114-4753-a901-d853782c5902",
   "metadata": {},
   "outputs": [],
   "source": [
    "class Perceptron:\n",
    "  def __init__(self, eta=0.01, n_iter=50, seed=1):\n",
    "    self.eta = eta\n",
    "    self.n_iter = n_iter\n",
    "    self.seed = seed\n",
    "  def fit(self, x, y):\n",
    "    rng = np.random.RandomState(self.seed)\n",
    "    self.w = rng.normal(loc=0, scale=0.01, size=x.shape[1])\n",
    "    self.b = 0\n",
    "    self.errors = []\n",
    "\n",
    "    for _ in range(self.n_iter):\n",
    "      errors = 0\n",
    "      for x_i, target in zip(x, y):\n",
    "        update = self.eta * (target - self.predict(x_i))\n",
    "        self.w += update*x_i\n",
    "        self.b += update\n",
    "        errors += 0 if update == 0.0 else 1\n",
    "      self.errors.append(errors)\n",
    "    return self\n",
    "  def predict(self, x_i):\n",
    "    return np.where(self.net_input(x_i) >= 0.0, 1, 0)\n",
    "  def net_input(self, x_i):\n",
    "    return x_i @ self.w + self.b\n",
    "        "
   ]
  },
  {
   "cell_type": "code",
   "execution_count": null,
   "id": "40ed0c4d-c795-412d-ab43-0c42bd0fac06",
   "metadata": {},
   "outputs": [],
   "source": [
    "from matplotlib.colors import ListedColormap\n",
    "\n",
    "def plot_decision_regions(ax, x, y, classifier, resolution=0.02):\n",
    "    markers = ('o', 's', '^', 'v', '<')\n",
    "    colors = ('b', 'r', 'lightgreen', 'gray', 'cyan')\n",
    "    labels = ('Setosa', 'Virginica')\n",
    "    cmap = ListedColormap(colors[:len(np.unique(y))])\n",
    "\n",
    "    # plot the decision surface\n",
    "    x0_min, x0_max = x[:, 0].min()-1, x[:, 0].max()+1\n",
    "    x1_min, x1_max = x[:, 1].min()-1, x[:, 1].max()+1\n",
    "    xx0, xx1 = np.meshgrid(np.arange(x0_min, x0_max, resolution), np.arange(x1_min, x1_max, resolution))\n",
    "    lab = classifier.predict(np.array((xx0.ravel(), xx1.ravel())).T)\n",
    "    lab = lab.reshape(xx0.shape)\n",
    "\n",
    "    ax.contourf(xx0, xx1, lab, alpha=0.3, cmap=cmap)\n",
    "    ax.set_xlim(xx0.min(), xx0.max())\n",
    "    ax.set_ylim(xx1.min(), xx1.max())\n",
    "\n",
    "    # plot class examples\n",
    "    for idx, cl in enumerate(np.unique(y)):\n",
    "        ax.scatter(x[y == cl, 0], x[y == cl, 1], alpha=0.8, c=colors[idx], marker=markers[idx], label=labels[idx], edgecolor='k')\n",
    "    ax.set_xlabel(\"Sepal length [cm\")\n",
    "    ax.set_ylabel(\"Petal length [cm]\")\n",
    "    ax.legend()"
   ]
  },
  {
   "cell_type": "code",
   "execution_count": null,
   "id": "29b93c55-d8dc-4b09-96ca-a90997970e90",
   "metadata": {},
   "outputs": [],
   "source": [
    "url = 'https://archive.ics.uci.edu/ml/machine-learning-databases/iris/iris.data'\n",
    "df = pd.read_csv(url, header=None, encoding='utf-8')\n",
    "df.tail()"
   ]
  },
  {
   "cell_type": "code",
   "execution_count": null,
   "id": "65eeae4a-478f-4fb5-b31d-4c0b51a01124",
   "metadata": {},
   "outputs": [],
   "source": [
    "## preprocess data\n",
    "# should contain 50xIris-setosa and 50xIris-virginica (head it)\n",
    "y = df.iloc[:100, 4]\n",
    "# Iris-setosa to 0, Iris-virginica to 1\n",
    "y = np.where(y == 'Iris-setosa', 0, 1)\n",
    "# we are interested in sepal length (idx=0) and petal length (idx=1)\n",
    "x = df.iloc[:100, [0, 2]].values\n"
   ]
  },
  {
   "cell_type": "code",
   "execution_count": null,
   "id": "abef5973-455e-490d-a120-b46b1821bb66",
   "metadata": {},
   "outputs": [],
   "source": [
    "## plotting\n",
    "fig, ax = plt.subplots()\n",
    "ax.scatter(x[:50, 0], x[:50, 1], c='b', marker='o', label='Setosa')\n",
    "ax.scatter(x[50:, 0], x[50:, 1], c='r', marker='s', label='Virginica')\n",
    "ax.set_xlabel(\"Sepal length [cm]\")\n",
    "ax.set_ylabel(\"Petal length [cm]\")\n",
    "ax.legend()"
   ]
  },
  {
   "cell_type": "code",
   "execution_count": null,
   "id": "cf189331-b395-4aec-8909-3bef5c334e0c",
   "metadata": {
    "scrolled": true
   },
   "outputs": [],
   "source": [
    "ppn = Perceptron(eta=0.1, n_iter=10)\n",
    "ppn.fit(x, y)\n",
    "\n",
    "fig, ax = plt.subplots()\n",
    "ax.set_xlabel(\"Epochs\")\n",
    "ax.set_ylabel(\"Errors\")\n",
    "ax.plot(np.arange(1, len(ppn.errors)+1), ppn.errors, marker='o')"
   ]
  },
  {
   "cell_type": "code",
   "execution_count": null,
   "id": "129d9273-c57c-4cf9-9128-c02190985ef6",
   "metadata": {},
   "outputs": [],
   "source": [
    "fig, ax = plt.subplots()\n",
    "plot_decision_regions(ax, x, y, classifier=ppn)"
   ]
  },
  {
   "cell_type": "code",
   "execution_count": null,
   "id": "fc3dfc66-5d17-485a-a171-a0871d2cc640",
   "metadata": {},
   "outputs": [],
   "source": []
  }
 ],
 "metadata": {
  "kernelspec": {
   "display_name": ".venv",
   "language": "python",
   "name": "python3"
  },
  "language_info": {
   "codemirror_mode": {
    "name": "ipython",
    "version": 3
   },
   "file_extension": ".py",
   "mimetype": "text/x-python",
   "name": "python",
   "nbconvert_exporter": "python",
   "pygments_lexer": "ipython3",
   "version": "3.13.2"
  }
 },
 "nbformat": 4,
 "nbformat_minor": 5
}
