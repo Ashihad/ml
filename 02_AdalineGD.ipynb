{
 "cells": [
  {
   "cell_type": "markdown",
   "metadata": {},
   "source": [
    "Original paper: [here](https://isl.stanford.edu/~widrow/papers/t1960anadaptive.pdf)\n",
    "\n",
    "Adeline GD uses Gradient Descent function \n",
    "* Loss function: Mean Square Error\n",
    "$$ L = \\frac{1}{2n} \\sum_{i=1}^{n} \\left( y^{(i)} - \\sigma(z^{(i)}) \\right) ^ 2 $$\n",
    "* $\\Delta w_j$ changes is calculated with a Gradient Descent function which is a derivative of MSE with respect to chosen $w_j$\n",
    "$$ \\Delta w_j = - \\eta \\cdot \\frac{\\partial L}{\\partial w_j} $$\n",
    "$$ \\frac{\\partial L}{\\partial w_j} = -\\frac{1}{n} \\sum_{i=1}^{n} \\left( y^{(i)} - \\sigma(z^{(i)}) \\right) \\cdot x_j "
   ]
  },
  {
   "cell_type": "code",
   "execution_count": null,
   "metadata": {},
   "outputs": [],
   "source": [
    "import numpy as np\n",
    "import matplotlib.pyplot as plt\n",
    "import pandas as pd"
   ]
  },
  {
   "cell_type": "code",
   "execution_count": null,
   "metadata": {},
   "outputs": [],
   "source": [
    "class AdalineGD:\n",
    "  \"ADAptive LInear NEuron classifier\"\n",
    "  def __init__(self, eta=0.01, n_iter=50, seed=1):\n",
    "    self.eta = eta\n",
    "    self.n_iter = n_iter\n",
    "    self.seed = seed\n",
    "  def fit(self, x, y):\n",
    "    rng = np.random.RandomState(self.seed)\n",
    "    self.w = rng.normal(loc=0, scale=0.01, size=x.shape[1])\n",
    "    self.b = 0\n",
    "    self.losses = []\n",
    "\n",
    "    for i in range(self.n_iter):\n",
    "      net_input = self.net_input(x)\n",
    "      output = self.activation(net_input)\n",
    "      errors = y - output\n",
    "      self.w += self.eta * 2 * x.T.dot(errors) / x.shape[0]\n",
    "      self.b += self.eta * 2 * np.mean(errors)\n",
    "      loss = np.mean(errors**2)\n",
    "      self.losses.append(loss)\n",
    "    return self\n",
    "  def predict(self, x_i):\n",
    "    return np.where(self.activation(self.net_input(x_i)) >= 0.5, 1, 0)\n",
    "  def net_input(self, x_i):\n",
    "    return x_i @ self.w + self.b\n",
    "  def activation(self, x):\n",
    "    return x"
   ]
  },
  {
   "cell_type": "code",
   "execution_count": null,
   "metadata": {},
   "outputs": [],
   "source": [
    "from matplotlib.colors import ListedColormap\n",
    "\n",
    "def plot_decision_regions(axes, x, y, classifier, resolution=0.02):\n",
    "    markers = ('o', 's', '^', 'v', '<')\n",
    "    colors = ('b', 'r', 'lightgreen', 'gray', 'cyan')\n",
    "    labels = ('Setosa', 'Virginica')\n",
    "    cmap = ListedColormap(colors[:len(np.unique(y))])\n",
    "\n",
    "    # plot the decision surface\n",
    "    x0_min, x0_max = x[:, 0].min()-1, x[:, 0].max()+1\n",
    "    x1_min, x1_max = x[:, 1].min()-1, x[:, 1].max()+1\n",
    "    xx0, xx1 = np.meshgrid(np.arange(x0_min, x0_max, resolution), np.arange(x1_min, x1_max, resolution))\n",
    "    lab = classifier.predict(np.array((xx0.ravel(), xx1.ravel())).T)\n",
    "    lab = lab.reshape(xx0.shape)\n",
    "\n",
    "    ax.contourf(xx0, xx1, lab, alpha=0.3, cmap=cmap)\n",
    "    ax.set_xlim(xx0.min(), xx0.max())\n",
    "    ax.set_ylim(xx1.min(), xx1.max())\n",
    "\n",
    "    # plot class examples\n",
    "    for idx, cl in enumerate(np.unique(y)):\n",
    "        ax.scatter(x[y == cl, 0], x[y == cl, 1], alpha=0.8, c=colors[idx], marker=markers[idx], label=labels[idx], edgecolor='k')\n",
    "    ax.set_xlabel(\"Sepal length [standardized]\")\n",
    "    ax.set_ylabel(\"Petal length [standardized]\")\n",
    "    ax.legend()"
   ]
  },
  {
   "cell_type": "code",
   "execution_count": null,
   "metadata": {},
   "outputs": [],
   "source": [
    "url = 'https://archive.ics.uci.edu/ml/machine-learning-databases/iris/iris.data'\n",
    "df = pd.read_csv(url, header=None, encoding='utf-8')\n",
    "df.tail()"
   ]
  },
  {
   "cell_type": "code",
   "execution_count": null,
   "metadata": {},
   "outputs": [],
   "source": [
    "## preprocess data\n",
    "# should contain 50xIris-setosa and 50xIris-virginica (head it)\n",
    "y = df.iloc[:100, 4]\n",
    "# Iris-setosa to 0, Iris-virginica to 1\n",
    "y = np.where(y == 'Iris-setosa', 0, 1)\n",
    "# we are interested in sepal length (idx=0) and petal length (idx=1)\n",
    "x = df.iloc[:100, [0, 2]].values"
   ]
  },
  {
   "cell_type": "markdown",
   "metadata": {},
   "source": [
    "`ada1` is an example of too big learning rate, instead of converging losses oscillate around minimum and skyrocket\n",
    "\n",
    "`ada2` is an example of too small learning rate, it will converge eventually but number of epochs required for it is large, which is undesired"
   ]
  },
  {
   "cell_type": "code",
   "execution_count": null,
   "metadata": {},
   "outputs": [],
   "source": [
    "ada1 = AdalineGD(n_iter=15, eta=0.1).fit(x, y)\n",
    "\n",
    "fig, ax = plt.subplots(nrows=1, ncols=2, figsize=(10, 4))\n",
    "\n",
    "ax[0].plot(range(1, len(ada1.losses) + 1), np.log10(ada1.losses), marker='o')\n",
    "ax[0].set_xlabel('Epochs')\n",
    "ax[0].set_ylabel('log(Mean squared error)')\n",
    "ax[0].set_title('Adaline - Learning rate 0.1')\n",
    "\n",
    "ada2 = AdalineGD(n_iter=15, eta=0.0001).fit(x, y)\n",
    "ax[1].plot(range(1, len(ada2.losses) + 1), ada2.losses, marker='o')\n",
    "ax[1].set_xlabel('Epochs')\n",
    "ax[1].set_ylabel('Mean squared error')\n",
    "ax[1].set_title('Adaline - Learning rate 0.0001')"
   ]
  },
  {
   "cell_type": "markdown",
   "metadata": {},
   "source": [
    "Gradient descent method benefits from *standarization* of dataset.\n",
    "\n",
    "Basically we shift mean of every feature to 0 which helps if one parameter has a mean which is very large and one does not.\n",
    "\n",
    "Then the second one would converge instantly and the second one would take a lot of epochs.\n",
    "\n",
    "If all of them are \"near\" zero, this difference balances out when performing standarization.\n",
    "\n",
    "Standarization: $$x_j^{'} = \\frac{x_j - \\mu_j}{\\sigma_j}$$\n",
    "\n",
    "$\\sigma_j$ - standard deviation of feature $x_j$\n",
    "\n",
    "$\\mu_j$ - mean of feature $x_j$\n"
   ]
  },
  {
   "cell_type": "code",
   "execution_count": null,
   "metadata": {},
   "outputs": [],
   "source": [
    "x_std = np.copy(x)\n",
    "x_std[:,0] = (x[:,0] - np.mean(x[:,0]))/np.std(x[:,0])\n",
    "x_std[:,1] = (x[:,1] - np.mean(x[:,1]))/np.std(x[:,1])\n",
    "ada_gd = AdalineGD(n_iter=20, eta=0.5).fit(x_std, y)\n",
    "\n",
    "fig, ax = plt.subplots()\n",
    "plot_decision_regions(ax, x_std, y, classifier=ada_gd)\n",
    "ax.set_title('Adaline - Gradient descent')\n",
    "fig.set_tight_layout(True)\n",
    "plt.show()\n",
    "\n",
    "fig, ax = plt.subplots()\n",
    "ax.plot(range(1, len(ada_gd.losses) + 1), ada_gd.losses, marker='o')\n",
    "ax.set_xlabel('Epochs')\n",
    "ax.set_ylabel('Mean squared error')\n",
    "fig.set_tight_layout(True)\n",
    "plt.show()\n"
   ]
  }
 ],
 "metadata": {
  "kernelspec": {
   "display_name": ".venv",
   "language": "python",
   "name": "python3"
  },
  "language_info": {
   "codemirror_mode": {
    "name": "ipython",
    "version": 3
   },
   "file_extension": ".py",
   "mimetype": "text/x-python",
   "name": "python",
   "nbconvert_exporter": "python",
   "pygments_lexer": "ipython3",
   "version": "3.13.2"
  }
 },
 "nbformat": 4,
 "nbformat_minor": 2
}
